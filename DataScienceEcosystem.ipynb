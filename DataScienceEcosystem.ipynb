{
  "nbformat": 4,
  "nbformat_minor": 0,
  "metadata": {
    "colab": {
      "provenance": [],
      "authorship_tag": "ABX9TyMdcKk0FoSj1t1rPFTYEj84",
      "include_colab_link": true
    },
    "kernelspec": {
      "name": "python3",
      "display_name": "Python 3"
    },
    "language_info": {
      "name": "python"
    }
  },
  "cells": [
    {
      "cell_type": "markdown",
      "metadata": {
        "id": "view-in-github",
        "colab_type": "text"
      },
      "source": [
        "<a href=\"https://colab.research.google.com/github/jbajr1982/ProgrammingAssignment2/blob/main/DataScienceEcosystem.ipynb\" target=\"_parent\"><img src=\"https://colab.research.google.com/assets/colab-badge.svg\" alt=\"Open In Colab\"/></a>"
      ]
    },
    {
      "cell_type": "markdown",
      "source": [
        "# Data Science Tools and Ecosystem\n",
        "\n",
        "\n"
      ],
      "metadata": {
        "id": "owydhLNkrVH2"
      }
    },
    {
      "cell_type": "markdown",
      "source": [
        "# Introduction\n",
        "\n",
        "In this notebook, Data Science Tools and Ecosystem are summarized.\n"
      ],
      "metadata": {
        "id": "eCOYUVBTsqLm"
      }
    },
    {
      "cell_type": "markdown",
      "source": [],
      "metadata": {
        "id": "mTyWOd5isyWv"
      }
    },
    {
      "cell_type": "markdown",
      "source": [
        "# Languages\n",
        "\n",
        "Some of the popular languages that Data Scientists use are:\n",
        "\n",
        "\n",
        "*   Python\n",
        "*   R\n",
        "*   SQL\n",
        "\n",
        "\n",
        "\n"
      ],
      "metadata": {
        "id": "IIkqykn2u98E"
      }
    },
    {
      "cell_type": "markdown",
      "source": [],
      "metadata": {
        "id": "_0TO6SvtwYCR"
      }
    },
    {
      "cell_type": "markdown",
      "source": [],
      "metadata": {
        "id": "F19aobOywQ-A"
      }
    },
    {
      "cell_type": "markdown",
      "source": [
        "# libraries\n",
        "\n",
        "Some of the commonly used libraries used by Data Scientists include:\n",
        "*  pandas\n",
        "*  numpy\n",
        "*  statsmodels"
      ],
      "metadata": {
        "id": "1GSX5tgxvUXT"
      }
    },
    {
      "cell_type": "markdown",
      "source": [
        "### math operations\n",
        "\n",
        "Below are a few examples of evaluating arithmetic expressions in Python.\n",
        "\n"
      ],
      "metadata": {
        "id": "oDHEG13Uw3XA"
      }
    },
    {
      "cell_type": "code",
      "source": [
        "1+1"
      ],
      "metadata": {
        "colab": {
          "base_uri": "https://localhost:8080/"
        },
        "id": "Z5I8I2ofw7LP",
        "outputId": "81e29cab-15e4-402a-d3bd-a40e749b5ed1"
      },
      "execution_count": 1,
      "outputs": [
        {
          "output_type": "execute_result",
          "data": {
            "text/plain": [
              "2"
            ]
          },
          "metadata": {},
          "execution_count": 1
        }
      ]
    },
    {
      "cell_type": "markdown",
      "source": [
        "## Author\n",
        "\n",
        "Jose B. de Araujo Jr."
      ],
      "metadata": {
        "id": "Sq0AtpzKwOLL"
      }
    }
  ]
}